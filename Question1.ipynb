{
  "nbformat": 4,
  "nbformat_minor": 0,
  "metadata": {
    "colab": {
      "name": "Untitled5.ipynb",
      "provenance": [],
      "authorship_tag": "ABX9TyPLhzdxP7YlbPNZL8Y8Rabl",
      "include_colab_link": true
    },
    "kernelspec": {
      "name": "python3",
      "display_name": "Python 3"
    }
  },
  "cells": [
    {
      "cell_type": "markdown",
      "metadata": {
        "id": "view-in-github",
        "colab_type": "text"
      },
      "source": [
        "<a href=\"https://colab.research.google.com/github/roymalini/Quant-Wing-2020/blob/master/Question1.ipynb\" target=\"_parent\"><img src=\"https://colab.research.google.com/assets/colab-badge.svg\" alt=\"Open In Colab\"/></a>"
      ]
    },
    {
      "cell_type": "code",
      "metadata": {
        "id": "jGMOKOa3uJeg",
        "colab_type": "code",
        "colab": {}
      },
      "source": [
        "def binomial_model(S0, sigma, r, K, T, N):\n",
        "    \n",
        "    dt = T/N\n",
        "    df = math.exp(-r*dt)\n",
        "    temp1 = math.exp((r+sigma*sigma)*dt)\n",
        "    temp = 0.5 * (df + temp1)\n",
        "    u = temp2 + math.sqrt(temp2 * temp2 - 1) \n",
        "    d = 1 / u\n",
        "    p = (1 + r - d) / (u - d)\n",
        "    q = 1 - p  \n",
        "\n",
        "    # make stock price tree\n",
        "    stock = np.zeros([N + 1, N + 1])\n",
        "    for i in range(N + 1):\n",
        "        for j in range(i + 1):\n",
        "            stock[j, i] = S0 * (u * (i - j)) * (d * j)\n",
        "\n",
        "    # Generate option prices recursively\n",
        "    option = np.zeros([N + 1, N + 1])\n",
        "    option[:, N] = np.maximum(np.zeros(N + 1), (stock[:, N] - K))\n",
        "    for i in range(N - 1, -1, -1):\n",
        "        for j in range(0, i + 1):\n",
        "            option[j, i] = (df * (p * option[j, i + 1] + q * option[j + 1, i + 1]))\n",
        "    return option"
      ],
      "execution_count": null,
      "outputs": []
    }
  ]
}